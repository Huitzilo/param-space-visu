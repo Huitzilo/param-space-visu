{
 "metadata": {
  "name": ""
 },
 "nbformat": 3,
 "nbformat_minor": 0,
 "worksheets": [
  {
   "cells": [
    {
     "cell_type": "code",
     "collapsed": false,
     "input": [
      "import sys\n",
      "import os\n",
      "import cPickle\n",
      "sys.path.append(os.getcwd())"
     ],
     "language": "python",
     "metadata": {},
     "outputs": []
    },
    {
     "cell_type": "code",
     "collapsed": false,
     "input": [
      "from paramspacevisu import network"
     ],
     "language": "python",
     "metadata": {},
     "outputs": []
    },
    {
     "cell_type": "code",
     "collapsed": false,
     "input": [
      "default_params = {\n",
      "\"wi\": 0.01,\n",
      "\"we\": 0.0025,\n",
      "\"ri\": 10.,\n",
      "\"re\": 10.,\n",
      "\"p_conn_et\": 0.1,\n",
      "\"p_conn_it\": 0.1}"
     ],
     "language": "python",
     "metadata": {},
     "outputs": []
    },
    {
     "cell_type": "code",
     "collapsed": false,
     "input": [
      "# first panel: vary re and ri between 10 and 50 in five steps\n",
      "num_tn = 50.\n",
      "num_spikes = numpy.zeros((25,25))\n",
      "param_dicts = numpy.zeros((25,25), dtype=object)\n",
      "net = network.ThreePops()\n",
      "net.make_network(param_dict=default_params)\n",
      "lastnumspikes = 0\n",
      "for ire,re in enumerate(numpy.arange(10.,50.01,10)):\n",
      "    for iri,ri in enumerate(numpy.arange(10.,50.01,10)):\n",
      "        for iwe,we in enumerate(numpy.linspace(0.001,0.005,5)):\n",
      "            for iwi,wi in enumerate(numpy.linspace(0.005,0.015,5)):\n",
      "                print \"re:%.0f, ri:%.0f\"%(re,ri)\n",
      "                params = default_params.copy()\n",
      "                params.update({'re':re, 'ri':ri, 'we':we, 'wi':wi})\n",
      "                index = (iwe*5 + ire, iwi*5+iri)\n",
      "                param_dicts[index] = params\n",
      "                net.update_weights_and_rates(params)\n",
      "                spikes = net.run_network()\n",
      "                currentnumspikes = len(spikes)\n",
      "                num_spikes[index] = (currentnumspikes - lastnumspikes)/num_tn\n",
      "                lastnumspikes = currentnumspikes\n",
      "cPickle.dump(num_spikes, open('numspikes.cPickle','w'))\n",
      "cPickle.dump(param_dicts, open('paramdicts.cPickle','w'))\n"
     ],
     "language": "python",
     "metadata": {},
     "outputs": []
    },
    {
     "cell_type": "code",
     "collapsed": false,
     "input": [
      "datapath = os.path.realpath(os.path.join(os.getcwd(), os.path.pardir))\n",
      "num_spikes = cPickle.load(open(os.path.join(datapath, 'numspikes.cPickle'),'r'))\n",
      "param_dicts = cPickle.load(open(os.path.join(datapath, 'paramdicts.cPickle'),'r'))\n",
      "vmax = numpy.max(num_spikes)"
     ],
     "language": "python",
     "metadata": {},
     "outputs": []
    },
    {
     "cell_type": "code",
     "collapsed": false,
     "input": [
      "slice1_ind = [(x,y) for x in range(25) for y in range(25) if (param_dicts[x,y]['we']==0.003) and (param_dicts[x,y]['wi']==0.0075)]\n",
      "print slice1_ind\n",
      "len(slice1_ind)"
     ],
     "language": "python",
     "metadata": {},
     "outputs": []
    },
    {
     "cell_type": "code",
     "collapsed": false,
     "input": [
      "rates_slice1 = numpy.array([num_spikes[sl1] for sl1 in slice1_ind]).reshape((5,5))\n",
      "print rates_slice1\n",
      "imshow(rates_slice1, interpolation='nearest', origin='upper', vmax=vmax)\n",
      "ax = pylab.gca()\n",
      "ax.set_xticklabels(['','10','20','30','40','50'])\n",
      "ax.set_xlabel('exc. rate')\n",
      "ax.set_yticklabels(['','50','40','30','20','10'])\n",
      "ax.set_ylabel('inh. rate')\n",
      "ax.set_title('$w_{exc}=0.003$, $w_{inh}=0.0075$')\n",
      "colorbar()"
     ],
     "language": "python",
     "metadata": {},
     "outputs": []
    },
    {
     "cell_type": "code",
     "collapsed": false,
     "input": [
      "slice2_ind = [(x,y) for x in range(25) for y in range(25) if (param_dicts[x,y]['re']==30.) and (param_dicts[x,y]['ri']==30.)]\n",
      "len(slice2_ind)\n",
      "print slice2_ind\n",
      "print numpy.array(slice2_ind,dtype=object).reshape((5,5))\n"
     ],
     "language": "python",
     "metadata": {},
     "outputs": []
    },
    {
     "cell_type": "code",
     "collapsed": false,
     "input": [
      "rates_slice2 = numpy.array([num_spikes[sl2] for sl2 in slice2_ind]).reshape((5,5))\n",
      "imshow(rates_slice2, interpolation='nearest', origin='upper', vmax=vmax)\n",
      "ax = pylab.gca()\n",
      "ax.set_xticklabels(['','0.001','0.002','0.003','0.004','0.005'])\n",
      "ax.set_xlabel('$w_{exc}}$')\n",
      "ax.set_yticklabels(['','0.0150','0.0125','0.0100','0.0075','0.0050'])\n",
      "ax.set_ylabel('$w_{inh}$')\n",
      "ax.set_title('$r_{exc}=30$, $r_{inh}=30$')\n",
      "\n",
      "colorbar()"
     ],
     "language": "python",
     "metadata": {},
     "outputs": []
    },
    {
     "cell_type": "code",
     "collapsed": false,
     "input": [
      "imshow(num_spikes, interpolation='nearest', origin='upper', vmax=vmax)"
     ],
     "language": "python",
     "metadata": {},
     "outputs": []
    },
    {
     "cell_type": "code",
     "collapsed": false,
     "input": [],
     "language": "python",
     "metadata": {},
     "outputs": []
    }
   ],
   "metadata": {}
  }
 ]
}