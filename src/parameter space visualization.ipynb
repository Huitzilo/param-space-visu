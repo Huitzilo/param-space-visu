{
 "metadata": {
  "name": ""
 },
 "nbformat": 3,
 "nbformat_minor": 0,
 "worksheets": [
  {
   "cells": [
    {
     "cell_type": "markdown",
     "metadata": {},
     "source": [
      "This notebook produces the figures for the Springer Reference article \"neuronal parameter space visualization\". The code is GPL (see LICENSE.txt in top-level directory of the repository). If you use it to produce scientific results, please reference Schmuker, M (2013) Neuronal Parameter Space Visualization. Spinger Reference Computational Neuroscience, Springer, Berlin.\n",
      "\n",
      "This notebook requires that you have PyNN and Brian installed. It was developed and tested with PyNN version 0.7.5 and Brian version 1.4.1, which you can get here:\n",
      "Brian: http://neuralensemble.org/trac/brian/downloader/download/release/19/1.4.1\n",
      "PyNN: https://pypi.python.org/packages/source/P/PyNN/PyNN-0.7.5.tar.gz\n",
      "\n",
      "The most recent versions can be found on http://neuralensemble.org."
     ]
    },
    {
     "cell_type": "code",
     "collapsed": false,
     "input": [
      "import sys\n",
      "import os\n",
      "import cPickle\n",
      "sys.path.append(os.getcwd())\n",
      "from paramspacevisu import network"
     ],
     "language": "python",
     "metadata": {},
     "outputs": [],
     "prompt_number": 11
    },
    {
     "cell_type": "markdown",
     "metadata": {},
     "source": [
      "First we define the network class. Two neuronal populations, modeled as poisson spike sources, projecting onto a third population, the target population. "
     ]
    },
    {
     "cell_type": "code",
     "collapsed": false,
     "input": [
      "default_params = { #default parameters for the network\n",
      "\"wi\": 0.01,       # inhibitory weight\n",
      "\"we\": 0.005,      # excitatory weight\n",
      "\"ri\": 30.,        # inhibitory rate\n",
      "\"re\": 30.,        # excitatory rate\n",
      "\"p_conn_et\": 0.1, # connection probability exc-> target\n",
      "\"p_conn_it\": 0.1, # connection probability inh-> target\n",
      "\"num_e\":200,      # number of excitatory neurons\n",
      "\"num_i\":50,       # number of inhibitory neurons\n",
      "\"num_t\":30}       # number of target neurons. Reduce this for faster simulation with very similar results.\n",
      "\n",
      "class ThreePops(object):\n",
      "    \"\"\"\n",
      "    Three populations of neurons: Excitatory, inhibitory, and target.\n",
      "    200 exc (poisson), 50 inh (poisson), 50 target (IF).\n",
      "    convergence: random 10 % (exc to target and inh to target)\n",
      "    weights: w_inh = 4*w_exc \n",
      "    \"\"\"\n",
      "    def make_network(self, param_dict=default_params):\n",
      "        \"\"\"\n",
      "        Construct the network according to the parameters specified.\n",
      "        \"\"\"\n",
      "        pynn.setup()\n",
      "        self.exc = pynn.Population(param_dict['num_e'], \n",
      "                                   pynn.SpikeSourcePoisson, \n",
      "                                   cellparams={'rate':param_dict['re']})\n",
      "        self.inh = pynn.Population(param_dict['num_i'], \n",
      "                                   pynn.SpikeSourcePoisson, \n",
      "                                   cellparams={'rate':param_dict['ri']})\n",
      "        self.target = pynn.Population(param_dict['num_t'], \n",
      "                                      pynn.IF_cond_exp)\n",
      "        self.target.record(to_file=False)\n",
      "        \n",
      "        connector_et = pynn.FixedProbabilityConnector(\n",
      "                            p_connect=param_dict[\"p_conn_et\"],\n",
      "                            weights=param_dict[\"we\"])\n",
      "        connector_ei = pynn.FixedProbabilityConnector(\n",
      "                            p_connect=param_dict[\"p_conn_it\"],\n",
      "                            weights=param_dict[\"wi\"])\n",
      "        self.prj_et = pynn.Projection(self.exc, self.target, \n",
      "                  method=connector_et)\n",
      "        self.prj_it = pynn.Projection(self.inh, self.target, \n",
      "                  method=connector_ei, target='inhibitory')\n",
      "    \n",
      "    def update_weights_and_rates(self, param_dict):\n",
      "        \"\"\"\n",
      "        Update the weights and firing rates in the network according to the \n",
      "        parameter dict.\n",
      "        \"\"\"\n",
      "        self.exc.set('rate', param_dict['re'])\n",
      "        self.inh.set('rate', param_dict['ri'])\n",
      "        self.prj_et.setWeights(param_dict['we'])\n",
      "        self.prj_it.setWeights(param_dict['wi'])\n",
      "    \n",
      "    def run_network(self, duration=1000.):\n",
      "        \"\"\"\n",
      "        Run the network for the specified duration. Returns spikes of target \n",
      "        population in GDF format.\n",
      "        \"\"\"\n",
      "        pynn.run(duration)\n",
      "        spikes = self.target.getSpikes()\n",
      "        return spikes\n",
      "        "
     ],
     "language": "python",
     "metadata": {},
     "outputs": []
    },
    {
     "cell_type": "code",
     "collapsed": false,
     "input": [
      "#make one panel: rate variation\n",
      "we = 0.005\n",
      "wi = 0.01\n",
      "num_spikes_1p = numpy.zeros((5,5))\n",
      "param_dicts_1p = numpy.zeros((5,5), dtype=object)\n",
      "net = network.ThreePops()\n",
      "net.make_network(param_dict=default_params)\n",
      "lastnumspikes = 0\n",
      "for ire,re in enumerate(numpy.linspace(20.,40.,5)):\n",
      "    for iri,ri in enumerate(numpy.linspace(20.,40.,5)):\n",
      "        print \"re:%.1f, ri:%.1f, we:%.4f, wi:%.4f\"%(re,ri,we,wi)\n",
      "        params = default_params.copy()\n",
      "        params.update({'re':re, 'ri':ri, 'we':we, 'wi':wi})\n",
      "        param_dicts_1p[ire,iri] = params\n",
      "        net.update_weights_and_rates(params)\n",
      "        spikes = net.run_network()\n",
      "        currentnumspikes = len(spikes)\n",
      "        num_spikes_1p[ire,iri] = (currentnumspikes - lastnumspikes)/params['num_t']\n",
      "        lastnumspikes = currentnumspikes\n"
     ],
     "language": "python",
     "metadata": {},
     "outputs": [],
     "prompt_number": 5
    },
    {
     "cell_type": "code",
     "collapsed": false,
     "input": [
      "imshow(num_spikes_1p, interpolation='nearest', origin='lower')\n",
      "colorbar()"
     ],
     "language": "python",
     "metadata": {},
     "outputs": [
      {
       "metadata": {},
       "output_type": "pyout",
       "prompt_number": 6,
       "text": [
        "<matplotlib.colorbar.Colorbar instance at 0x6381200>"
       ]
      },
      {
       "metadata": {},
       "output_type": "display_data",
       "png": "[encoded data removed]",
       "text": [
        "<matplotlib.figure.Figure at 0x6003510>"
       ]
      }
     ],
     "prompt_number": 6
    },
    {
     "cell_type": "code",
     "collapsed": false,
     "input": [
      "#make one panel: weight variation\n",
      "re = 30.\n",
      "ri = 30.\n",
      "num_spikes_1pw = numpy.zeros((5,5))\n",
      "param_dicts_1pw = numpy.zeros((5,5), dtype=object)\n",
      "net = network.ThreePops()\n",
      "net.make_network(param_dict=default_params)\n",
      "lastnumspikes = 0\n",
      "for iwe,we in enumerate(numpy.linspace(0.003,0.007,5)):\n",
      "    for iwi,wi in enumerate(numpy.linspace(0.008,0.012,5)):\n",
      "        params = default_params.copy()\n",
      "        params.update({'re':re, 'ri':ri, 'we':we, 'wi':wi})\n",
      "        param_dicts_1pw[iwe,iwi] = params\n",
      "        net.update_weights_and_rates(params)\n",
      "        spikes = net.run_network()\n",
      "        currentnumspikes = len(spikes)\n",
      "        num_spikes_1pw[iwe,iwi] = (currentnumspikes - lastnumspikes)/params['num_t']\n",
      "        lastnumspikes = currentnumspikes\n"
     ],
     "language": "python",
     "metadata": {},
     "outputs": [],
     "prompt_number": 7
    },
    {
     "cell_type": "code",
     "collapsed": false,
     "input": [
      "imshow(num_spikes_1pw, interpolation='nearest', origin='lower')\n",
      "colorbar()"
     ],
     "language": "python",
     "metadata": {},
     "outputs": [
      {
       "metadata": {},
       "output_type": "pyout",
       "prompt_number": 8,
       "text": [
        "<matplotlib.colorbar.Colorbar instance at 0x671f518>"
       ]
      },
      {
       "metadata": {},
       "output_type": "display_data",
       "png": "[encoded data removed]",
       "text": [
        "<matplotlib.figure.Figure at 0x618e5d0>"
       ]
      }
     ],
     "prompt_number": 8
    },
    {
     "cell_type": "markdown",
     "metadata": {},
     "source": [
      "This cell samples the parameter space of the network systematically along the four parameters $r_{exc}$, $r_{inh}$, $w_{exc}$, and $w_{inh}$. Each parameter is sampled at five equal-spaced intervals.\n",
      "\n",
      "Note: The simulation takes a long time to run. You can skip the simulation and load the resulting data directly in the next cell below. \n"
     ]
    },
    {
     "cell_type": "code",
     "collapsed": true,
     "input": [
      "# first panel: vary re and ri between 10 and 50 in five steps\n",
      "num_tn = 50.\n",
      "num_spikes = numpy.zeros((25,25))\n",
      "param_dicts = numpy.zeros((25,25), dtype=object)\n",
      "net = network.ThreePops()\n",
      "net.make_network(param_dict=default_params)\n",
      "lastnumspikes = 0\n",
      "for ire,re in enumerate(numpy.linspace(20.,40.,5)):\n",
      "    for iri,ri in enumerate(numpy.linspace(20.,40.,5)):\n",
      "        for iwe,we in enumerate(numpy.linspace(0.003,0.007,5)):\n",
      "            for iwi,wi in enumerate(numpy.linspace(0.008,0.012,5)):\n",
      "                print \"re:%.0f, ri:%.0f\"%(re,ri)\n",
      "                params = default_params.copy()\n",
      "                params.update({'re':re, 'ri':ri, 'we':we, 'wi':wi})\n",
      "                index = (iwe*5 + ire, iwi*5+iri)\n",
      "                param_dicts[index] = params\n",
      "                net.update_weights_and_rates(params)\n",
      "                spikes = net.run_network()\n",
      "                currentnumspikes = len(spikes)\n",
      "                num_spikes[index] = (currentnumspikes - lastnumspikes)/num_tn\n",
      "                lastnumspikes = currentnumspikes\n",
      "cPickle.dump(num_spikes, open('numspikes.cPickle','w'))\n",
      "cPickle.dump(param_dicts, open('paramdicts.cPickle','w'))\n"
     ],
     "language": "python",
     "metadata": {},
     "outputs": [
      {
       "output_type": "stream",
       "stream": "stdout",
       "text": [
        "re:20, ri:20\n",
        "re:20, ri:20"
       ]
      },
      {
       "output_type": "stream",
       "stream": "stdout",
       "text": [
        "\n",
        "re:20, ri:20"
       ]
      },
      {
       "output_type": "stream",
       "stream": "stdout",
       "text": [
        "\n",
        "re:20, ri:20"
       ]
      },
      {
       "output_type": "stream",
       "stream": "stdout",
       "text": [
        "\n",
        "re:20, ri:20"
       ]
      },
      {
       "output_type": "stream",
       "stream": "stdout",
       "text": [
        "\n",
        "re:20, ri:20"
       ]
      },
      {
       "ename": "KeyboardInterrupt",
       "evalue": "",
       "output_type": "pyerr",
       "traceback": [
        "\u001b[1;31m---------------------------------------------------------------------------\u001b[0m\n\u001b[1;31mKeyboardInterrupt\u001b[0m                         Traceback (most recent call last)",
        "\u001b[1;32m<ipython-input-27-37d44c4369fe>\u001b[0m in \u001b[0;36m<module>\u001b[1;34m()\u001b[0m\n\u001b[0;32m     16\u001b[0m                 \u001b[0mparam_dicts\u001b[0m\u001b[1;33m[\u001b[0m\u001b[0mindex\u001b[0m\u001b[1;33m]\u001b[0m \u001b[1;33m=\u001b[0m \u001b[0mparams\u001b[0m\u001b[1;33m\u001b[0m\u001b[0m\n\u001b[0;32m     17\u001b[0m                 \u001b[0mnet\u001b[0m\u001b[1;33m.\u001b[0m\u001b[0mupdate_weights_and_rates\u001b[0m\u001b[1;33m(\u001b[0m\u001b[0mparams\u001b[0m\u001b[1;33m)\u001b[0m\u001b[1;33m\u001b[0m\u001b[0m\n\u001b[1;32m---> 18\u001b[1;33m                 \u001b[0mspikes\u001b[0m \u001b[1;33m=\u001b[0m \u001b[0mnet\u001b[0m\u001b[1;33m.\u001b[0m\u001b[0mrun_network\u001b[0m\u001b[1;33m(\u001b[0m\u001b[1;33m)\u001b[0m\u001b[1;33m\u001b[0m\u001b[0m\n\u001b[0m\u001b[0;32m     19\u001b[0m                 \u001b[0mcurrentnumspikes\u001b[0m \u001b[1;33m=\u001b[0m \u001b[0mlen\u001b[0m\u001b[1;33m(\u001b[0m\u001b[0mspikes\u001b[0m\u001b[1;33m)\u001b[0m\u001b[1;33m\u001b[0m\u001b[0m\n\u001b[0;32m     20\u001b[0m                 \u001b[0mnum_spikes\u001b[0m\u001b[1;33m[\u001b[0m\u001b[0mindex\u001b[0m\u001b[1;33m]\u001b[0m \u001b[1;33m=\u001b[0m \u001b[1;33m(\u001b[0m\u001b[0mcurrentnumspikes\u001b[0m \u001b[1;33m-\u001b[0m \u001b[0mlastnumspikes\u001b[0m\u001b[1;33m)\u001b[0m\u001b[1;33m/\u001b[0m\u001b[0mnum_tn\u001b[0m\u001b[1;33m\u001b[0m\u001b[0m\n",
        "\u001b[1;32m/home/micha/Projects/paramspacevisu/param-space-visu/src/paramspacevisu/network.py\u001b[0m in \u001b[0;36mrun_network\u001b[1;34m(self, duration)\u001b[0m\n\u001b[0;32m     71\u001b[0m         \u001b[0mpopulation\u001b[0m \u001b[1;32min\u001b[0m \u001b[0mGDF\u001b[0m \u001b[0mformat\u001b[0m\u001b[1;33m.\u001b[0m\u001b[1;33m\u001b[0m\u001b[0m\n\u001b[0;32m     72\u001b[0m         \"\"\"\n\u001b[1;32m---> 73\u001b[1;33m         \u001b[0mpynn\u001b[0m\u001b[1;33m.\u001b[0m\u001b[0mrun\u001b[0m\u001b[1;33m(\u001b[0m\u001b[0mduration\u001b[0m\u001b[1;33m)\u001b[0m\u001b[1;33m\u001b[0m\u001b[0m\n\u001b[0m\u001b[0;32m     74\u001b[0m         \u001b[0mspikes\u001b[0m \u001b[1;33m=\u001b[0m \u001b[0mself\u001b[0m\u001b[1;33m.\u001b[0m\u001b[0mtarget\u001b[0m\u001b[1;33m.\u001b[0m\u001b[0mgetSpikes\u001b[0m\u001b[1;33m(\u001b[0m\u001b[1;33m)\u001b[0m\u001b[1;33m\u001b[0m\u001b[0m\n\u001b[0;32m     75\u001b[0m         \u001b[1;32mreturn\u001b[0m \u001b[0mspikes\u001b[0m\u001b[1;33m\u001b[0m\u001b[0m\n",
        "\u001b[1;32m/home/micha/mypython/lib/python2.7/site-packages/pyNN/brian/__init__.pyc\u001b[0m in \u001b[0;36mrun\u001b[1;34m(simtime)\u001b[0m\n\u001b[0;32m     78\u001b[0m \u001b[1;32mdef\u001b[0m \u001b[0mrun\u001b[0m\u001b[1;33m(\u001b[0m\u001b[0msimtime\u001b[0m\u001b[1;33m)\u001b[0m\u001b[1;33m:\u001b[0m\u001b[1;33m\u001b[0m\u001b[0m\n\u001b[0;32m     79\u001b[0m     \u001b[1;34m\"\"\"Run the simulation for simtime ms.\"\"\"\u001b[0m\u001b[1;33m\u001b[0m\u001b[0m\n\u001b[1;32m---> 80\u001b[1;33m     \u001b[0msimulator\u001b[0m\u001b[1;33m.\u001b[0m\u001b[0mstate\u001b[0m\u001b[1;33m.\u001b[0m\u001b[0mrun\u001b[0m\u001b[1;33m(\u001b[0m\u001b[0msimtime\u001b[0m\u001b[1;33m)\u001b[0m\u001b[1;33m\u001b[0m\u001b[0m\n\u001b[0m\u001b[0;32m     81\u001b[0m     \u001b[1;32mreturn\u001b[0m \u001b[0mget_current_time\u001b[0m\u001b[1;33m(\u001b[0m\u001b[1;33m)\u001b[0m\u001b[1;33m\u001b[0m\u001b[0m\n\u001b[0;32m     82\u001b[0m \u001b[1;33m\u001b[0m\u001b[0m\n",
        "\u001b[1;32m/home/micha/mypython/lib/python2.7/site-packages/pyNN/brian/simulator.pyc\u001b[0m in \u001b[0;36mrun\u001b[1;34m(self, simtime)\u001b[0m\n\u001b[0;32m    223\u001b[0m \u001b[1;33m\u001b[0m\u001b[0m\n\u001b[0;32m    224\u001b[0m     \u001b[1;32mdef\u001b[0m \u001b[0mrun\u001b[0m\u001b[1;33m(\u001b[0m\u001b[0mself\u001b[0m\u001b[1;33m,\u001b[0m \u001b[0msimtime\u001b[0m\u001b[1;33m)\u001b[0m\u001b[1;33m:\u001b[0m\u001b[1;33m\u001b[0m\u001b[0m\n\u001b[1;32m--> 225\u001b[1;33m         \u001b[0mself\u001b[0m\u001b[1;33m.\u001b[0m\u001b[0mnetwork\u001b[0m\u001b[1;33m.\u001b[0m\u001b[0mrun\u001b[0m\u001b[1;33m(\u001b[0m\u001b[0msimtime\u001b[0m \u001b[1;33m*\u001b[0m \u001b[0mms\u001b[0m\u001b[1;33m)\u001b[0m\u001b[1;33m\u001b[0m\u001b[0m\n\u001b[0m\u001b[0;32m    226\u001b[0m \u001b[1;33m\u001b[0m\u001b[0m\n\u001b[0;32m    227\u001b[0m     \u001b[1;32mdef\u001b[0m \u001b[0madd\u001b[0m\u001b[1;33m(\u001b[0m\u001b[0mself\u001b[0m\u001b[1;33m,\u001b[0m \u001b[0mobj\u001b[0m\u001b[1;33m)\u001b[0m\u001b[1;33m:\u001b[0m\u001b[1;33m\u001b[0m\u001b[0m\n",
        "\u001b[1;32m/home/micha/mypython/lib/python2.7/site-packages/brian/network.pyc\u001b[0m in \u001b[0;36mrun\u001b[1;34m(self, duration, threads, report, report_period)\u001b[0m\n\u001b[0;32m    563\u001b[0m                         \u001b[0mnext_report_time\u001b[0m \u001b[1;33m=\u001b[0m \u001b[0mcur_time\u001b[0m \u001b[1;33m+\u001b[0m \u001b[0mfloat\u001b[0m\u001b[1;33m(\u001b[0m\u001b[0mreport_period\u001b[0m\u001b[1;33m)\u001b[0m\u001b[1;33m\u001b[0m\u001b[0m\n\u001b[0;32m    564\u001b[0m                         \u001b[0mreport\u001b[0m\u001b[1;33m.\u001b[0m\u001b[0mupdate\u001b[0m\u001b[1;33m(\u001b[0m\u001b[1;33m(\u001b[0m\u001b[0mself\u001b[0m\u001b[1;33m.\u001b[0m\u001b[0mclock\u001b[0m\u001b[1;33m.\u001b[0m\u001b[0mt\u001b[0m \u001b[1;33m-\u001b[0m \u001b[0mself\u001b[0m\u001b[1;33m.\u001b[0m\u001b[0mclock\u001b[0m\u001b[1;33m.\u001b[0m\u001b[0mstart\u001b[0m\u001b[1;33m)\u001b[0m \u001b[1;33m/\u001b[0m \u001b[0mduration\u001b[0m\u001b[1;33m)\u001b[0m\u001b[1;33m\u001b[0m\u001b[0m\n\u001b[1;32m--> 565\u001b[1;33m                 \u001b[0mself\u001b[0m\u001b[1;33m.\u001b[0m\u001b[0mupdate\u001b[0m\u001b[1;33m(\u001b[0m\u001b[1;33m)\u001b[0m\u001b[1;33m\u001b[0m\u001b[0m\n\u001b[0m\u001b[0;32m    566\u001b[0m                 \u001b[0mclk\u001b[0m\u001b[1;33m.\u001b[0m\u001b[0mtick\u001b[0m\u001b[1;33m(\u001b[0m\u001b[1;33m)\u001b[0m\u001b[1;33m\u001b[0m\u001b[0m\n\u001b[0;32m    567\u001b[0m                 \u001b[1;32mif\u001b[0m \u001b[0mnot_same_clocks\u001b[0m\u001b[1;33m:\u001b[0m\u001b[1;33m\u001b[0m\u001b[0m\n",
        "\u001b[1;32m/home/micha/mypython/lib/python2.7/site-packages/brian/network.pyc\u001b[0m in \u001b[0;36mupdate\u001b[1;34m(self)\u001b[0m\n\u001b[0;32m    507\u001b[0m     \u001b[1;32mdef\u001b[0m \u001b[0mupdate\u001b[0m\u001b[1;33m(\u001b[0m\u001b[0mself\u001b[0m\u001b[1;33m)\u001b[0m\u001b[1;33m:\u001b[0m\u001b[1;33m\u001b[0m\u001b[0m\n\u001b[0;32m    508\u001b[0m         \u001b[1;32mfor\u001b[0m \u001b[0mf\u001b[0m \u001b[1;32min\u001b[0m \u001b[0mself\u001b[0m\u001b[1;33m.\u001b[0m\u001b[0m_update_schedule\u001b[0m\u001b[1;33m[\u001b[0m\u001b[0mid\u001b[0m\u001b[1;33m(\u001b[0m\u001b[0mself\u001b[0m\u001b[1;33m.\u001b[0m\u001b[0mclock\u001b[0m\u001b[1;33m)\u001b[0m\u001b[1;33m]\u001b[0m\u001b[1;33m:\u001b[0m\u001b[1;33m\u001b[0m\u001b[0m\n\u001b[1;32m--> 509\u001b[1;33m             \u001b[0mf\u001b[0m\u001b[1;33m(\u001b[0m\u001b[1;33m)\u001b[0m\u001b[1;33m\u001b[0m\u001b[0m\n\u001b[0m\u001b[0;32m    510\u001b[0m \u001b[1;33m\u001b[0m\u001b[0m\n\u001b[0;32m    511\u001b[0m     \"\"\"\n",
        "\u001b[1;32m/home/micha/mypython/lib/python2.7/site-packages/brian/neurongroup.pyc\u001b[0m in \u001b[0;36mupdate\u001b[1;34m(self)\u001b[0m\n\u001b[0;32m    490\u001b[0m                 \u001b[0mspikes\u001b[0m \u001b[1;33m=\u001b[0m \u001b[0marray\u001b[0m\u001b[1;33m(\u001b[0m\u001b[0mspikes\u001b[0m\u001b[1;33m)\u001b[0m\u001b[1;33m\u001b[0m\u001b[0m\n\u001b[0;32m    491\u001b[0m             \u001b[1;32mif\u001b[0m \u001b[0mself\u001b[0m\u001b[1;33m.\u001b[0m\u001b[0m_use_next_allowed_spiketime_refractoriness\u001b[0m\u001b[1;33m:\u001b[0m\u001b[1;33m\u001b[0m\u001b[0m\n\u001b[1;32m--> 492\u001b[1;33m                 \u001b[0mspikes\u001b[0m \u001b[1;33m=\u001b[0m \u001b[0mspikes\u001b[0m\u001b[1;33m[\u001b[0m\u001b[0mself\u001b[0m\u001b[1;33m.\u001b[0m\u001b[0m_next_allowed_spiketime\u001b[0m\u001b[1;33m[\u001b[0m\u001b[0mspikes\u001b[0m\u001b[1;33m]\u001b[0m \u001b[1;33m<=\u001b[0m \u001b[0mself\u001b[0m\u001b[1;33m.\u001b[0m\u001b[0mclock\u001b[0m\u001b[1;33m.\u001b[0m\u001b[0m_t\u001b[0m\u001b[1;33m]\u001b[0m\u001b[1;33m\u001b[0m\u001b[0m\n\u001b[0m\u001b[0;32m    493\u001b[0m                 \u001b[1;32mif\u001b[0m \u001b[0mself\u001b[0m\u001b[1;33m.\u001b[0m\u001b[0m_variable_refractory_time\u001b[0m\u001b[1;33m:\u001b[0m\u001b[1;33m\u001b[0m\u001b[0m\n\u001b[0;32m    494\u001b[0m                     \u001b[1;32mif\u001b[0m \u001b[0mself\u001b[0m\u001b[1;33m.\u001b[0m\u001b[0m_refractory_variable\u001b[0m \u001b[1;32mis\u001b[0m \u001b[1;32mnot\u001b[0m \u001b[0mNone\u001b[0m\u001b[1;33m:\u001b[0m\u001b[1;33m\u001b[0m\u001b[0m\n",
        "\u001b[1;31mKeyboardInterrupt\u001b[0m: "
       ]
      },
      {
       "output_type": "stream",
       "stream": "stdout",
       "text": [
        "\n"
       ]
      }
     ],
     "prompt_number": 27
    },
    {
     "cell_type": "markdown",
     "metadata": {},
     "source": [
      "Simply load the data if you don't want to wait for the simulations by executing this cell."
     ]
    },
    {
     "cell_type": "code",
     "collapsed": false,
     "input": [
      "datapath = os.path.realpath(os.path.join(os.getcwd(), os.path.pardir))\n",
      "num_spikes = cPickle.load(open(os.path.join(datapath, 'numspikes.cPickle'),'r'))\n",
      "param_dicts = cPickle.load(open(os.path.join(datapath, 'paramdicts.cPickle'),'r'))"
     ],
     "language": "python",
     "metadata": {},
     "outputs": [],
     "prompt_number": 29
    },
    {
     "cell_type": "markdown",
     "metadata": {},
     "source": [
      "We produce the first 2D-slice through the parameter space by picking all entries in the simulation where the firing rates $r_{exc}$ and $r_{inh}$ change while the weights $w_{exc}$ and $w_{inh}$ remain fixed. "
     ]
    },
    {
     "cell_type": "code",
     "collapsed": false,
     "input": [
      "vmax = numpy.max(num_spikes) # needed for consistent colorbar scaling\n",
      "\n",
      "slice1_ind = [(x,y) for x in range(25) for y in range(25) \n",
      "              if (abs(param_dicts[x,y]['we']-0.005) < 0.0001) \n",
      "              and (abs(param_dicts[x,y]['wi']-0.010) < 0.00001)]\n",
      "#print slice1_ind\n",
      "#len(slice1_ind)\n",
      "rates_slice1 = numpy.array([num_spikes[sl1] for sl1 in slice1_ind]).reshape((5,5))\n",
      "#print rates_slice1\n",
      "imshow(rates_slice1, interpolation='nearest', origin='lower', vmax=vmax)\n",
      "ax = pylab.gca()\n",
      "ax.set_xticklabels(['','20','25','30','35','40'])\n",
      "ax.set_xlabel('$r_{inh}$')\n",
      "ax.set_yticklabels(['','20','25','30','35','40'])\n",
      "ax.set_ylabel('$r_{exc}$')\n",
      "ax.set_title('$w_{exc}=0.005$, $w_{inh}=0.010$')\n",
      "cb = colorbar()\n",
      "cb.set_label('spikes/s')"
     ],
     "language": "python",
     "metadata": {},
     "outputs": [
      {
       "metadata": {},
       "output_type": "display_data",
       "png": "[encoded data removed]",
       "text": [
        "<matplotlib.figure.Figure at 0x8f4e710>"
       ]
      }
     ],
     "prompt_number": 56
    },
    {
     "cell_type": "markdown",
     "metadata": {},
     "source": [
      "Similarly we proceed for a 2D-slice that shows the behavior of the network for constant firing rates with changing weights"
     ]
    },
    {
     "cell_type": "code",
     "collapsed": false,
     "input": [
      "slice2_ind = [(x,y) for x in range(25) for y in range(25) if (param_dicts[x,y]['re']==30.) and (param_dicts[x,y]['ri']==30.)]\n",
      "#len(slice2_ind)\n",
      "rates_slice2 = numpy.array([num_spikes[sl2] for sl2 in slice2_ind]).reshape((5,5))\n",
      "#print slice2_ind\n",
      "#print numpy.array(slice2_ind,dtype=object).reshape((5,5,2))\n",
      "#print rates_slice2\n",
      "imshow(rates_slice2, interpolation='nearest', origin='lower', vmax=vmax)\n",
      "ax = pylab.gca()\n",
      "ax.set_xticklabels(['','0.008','0.009','0.010','0.011','0.012'])\n",
      "ax.set_xlabel('$w_{inh}}$')\n",
      "ax.set_yticklabels(['','0.003','0.004','0.005','0.006','0.007'])\n",
      "ax.set_ylabel('$w_{exc}$')\n",
      "ax.set_title('$r_{exc}=30$, $r_{inh}=30$')\n",
      "cb = colorbar()\n",
      "cb.set_label('spikes/s')"
     ],
     "language": "python",
     "metadata": {},
     "outputs": [
      {
       "metadata": {},
       "output_type": "display_data",
       "png": "[encoded data removed]",
       "text": [
        "<matplotlib.figure.Figure at 0xb40f950>"
       ]
      }
     ],
     "prompt_number": 57
    },
    {
     "cell_type": "markdown",
     "metadata": {},
     "source": [
      "Now we show the entire dimensional stack for all four parameters at once (unfortunately without axis annotations)."
     ]
    },
    {
     "cell_type": "code",
     "collapsed": false,
     "input": [
      "imshow(num_spikes, interpolation='nearest', origin='lower', vmax=vmax)\n",
      "cb = colorbar()\n",
      "cb.set_label('spikes/s')\n",
      "#x-axis: fast: ri 20->40, slow wi 0.008->0.012\n",
      "#y-axis: fast: re 20->40, slow we 0.003->0.007\n",
      "ax = pylab.gca()\n"
     ],
     "language": "python",
     "metadata": {},
     "outputs": [
      {
       "metadata": {},
       "output_type": "display_data",
       "png": "[encoded data removed]",
       "text": [
        "<matplotlib.figure.Figure at 0xae0f1d0>"
       ]
      }
     ],
     "prompt_number": 58
    }
   ],
   "metadata": {}
  }
 ]
}