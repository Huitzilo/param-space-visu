{
 "metadata": {
  "name": ""
 },
 "nbformat": 3,
 "nbformat_minor": 0,
 "worksheets": [
  {
   "cells": [
    {
     "cell_type": "code",
     "collapsed": false,
     "input": [
      "import sys\n",
      "import os\n",
      "sys.path.append(os.getcwd())"
     ],
     "language": "python",
     "metadata": {},
     "outputs": []
    },
    {
     "cell_type": "code",
     "collapsed": false,
     "input": [
      "from paramspacevisu import network"
     ],
     "language": "python",
     "metadata": {},
     "outputs": []
    },
    {
     "cell_type": "code",
     "collapsed": false,
     "input": [
      "default_params = {\n",
      "\"wi\": 0.01,\n",
      "\"we\": 0.0025,\n",
      "\"ri\": 10.,\n",
      "\"re\": 10.,\n",
      "\"p_conn_et\": 0.1,\n",
      "\"p_conn_it\": 0.1}"
     ],
     "language": "python",
     "metadata": {},
     "outputs": []
    },
    {
     "cell_type": "code",
     "collapsed": false,
     "input": [
      "net = network.ThreePops()\n"
     ],
     "language": "python",
     "metadata": {},
     "outputs": []
    },
    {
     "cell_type": "code",
     "collapsed": false,
     "input": [
      "re=10\n",
      "ri=10\n",
      "net.make_network(param_dict=default_params)\n",
      "params = default_params.copy()\n",
      "params.update({'re':re, 'ri':ri})\n",
      "net.update_weights_and_rates(params)\n",
      "net.target.record_v()\n",
      "net.run_network()\n",
      "spikes = net.target.getSpikes()\n",
      "print len(spikes)"
     ],
     "language": "python",
     "metadata": {},
     "outputs": []
    },
    {
     "cell_type": "code",
     "collapsed": false,
     "input": [
      "# first panel: vary re and ri between 10 and 50 in five steps\n",
      "num_tn = 50.\n",
      "num_spikes = numpy.zeros((5,5))\n",
      "net = network.ThreePops()\n",
      "net.make_network(param_dict=default_params)\n",
      "lastnumspikes = 0\n",
      "for ire,re in enumerate(numpy.arange(10.,50.01,10)):\n",
      "    for iri,ri in enumerate(numpy.arange(10.,50.01,10)):\n",
      "        print \"re:%.0f, ri:%.0f\"%(re,ri)\n",
      "        params = default_params.copy()\n",
      "        params.update({'re':re, 'ri':ri})\n",
      "        net.update_weights_and_rates(params)\n",
      "#        net.target.record_v()\n",
      "        spikes = net.run_network()\n",
      "        currentnumspikes = len(spikes)\n",
      "        num_spikes[ire,iri] = (currentnumspikes - lastnumspikes)/num_tn\n",
      "        lastnumspikes = currentnumspikes"
     ],
     "language": "python",
     "metadata": {},
     "outputs": []
    },
    {
     "cell_type": "code",
     "collapsed": false,
     "input": [
      "print num_spikes\n",
      "\n"
     ],
     "language": "python",
     "metadata": {},
     "outputs": []
    },
    {
     "cell_type": "code",
     "collapsed": false,
     "input": [
      "v = net.target.get_v()\n",
      "\n"
     ],
     "language": "python",
     "metadata": {},
     "outputs": []
    },
    {
     "cell_type": "code",
     "collapsed": false,
     "input": [
      "imshow(num_spikes/50., interpolation='nearest', origin='upper')\n",
      "ax = pylab.gca()\n",
      "ax.set_xticklabels(['','10','20','30','40','50'])\n",
      "ax.set_xlabel('exc. rate')\n",
      "ax.set_yticklabels(['','50','40','30','20','10'])\n",
      "ax.set_ylabel('inh. rate')\n",
      "colorbar()"
     ],
     "language": "python",
     "metadata": {},
     "outputs": []
    },
    {
     "cell_type": "code",
     "collapsed": false,
     "input": [
      "n = 1\n",
      "indices = v[:,0] == n\n",
      "plot(v[indices,1], v[indices,2])"
     ],
     "language": "python",
     "metadata": {},
     "outputs": []
    },
    {
     "cell_type": "code",
     "collapsed": false,
     "input": [],
     "language": "python",
     "metadata": {},
     "outputs": []
    }
   ],
   "metadata": {}
  }
 ]
}